{
 "cells": [
  {
   "cell_type": "code",
   "execution_count": null,
   "metadata": {
    "colab": {
     "autoexec": {
      "startup": false,
      "wait_interval": 0
     },
     "base_uri": "https://localhost:8080/",
     "height": 802,
     "output_extras": [
      {
       "item_id": 43
      },
      {
       "item_id": 99
      }
     ]
    },
    "colab_type": "code",
    "executionInfo": {
     "elapsed": 133681,
     "status": "ok",
     "timestamp": 1522681190642,
     "user": {
      "displayName": "Sid Nayyar",
      "photoUrl": "https://lh3.googleusercontent.com/a/default-user=s128",
      "userId": "113507106813183723112"
     },
     "user_tz": -330
    },
    "id": "2ol54__-28uZ",
    "outputId": "fb412cfb-0833-48b9-9228-64f9365b0185"
   },
   "outputs": [],
   "source": [
    "!wget https://nlp.stanford.edu/projects/snli/snli_1.0.zip\n",
    "!wget http://nlp.stanford.edu/data/glove.840B.300d.zip\n",
    "!unzip snli_1.0.zip\n",
    "!unzip glove.840B.300d.zip"
   ]
  },
  {
   "cell_type": "code",
   "execution_count": null,
   "metadata": {
    "colab": {
     "autoexec": {
      "startup": false,
      "wait_interval": 0
     },
     "base_uri": "https://localhost:8080/",
     "height": 68,
     "output_extras": [
      {
       "item_id": 1
      }
     ]
    },
    "colab_type": "code",
    "executionInfo": {
     "elapsed": 9020,
     "status": "ok",
     "timestamp": 1522681199754,
     "user": {
      "displayName": "Sid Nayyar",
      "photoUrl": "https://lh3.googleusercontent.com/a/default-user=s128",
      "userId": "113507106813183723112"
     },
     "user_tz": -330
    },
    "id": "avmMKyfLAXQR",
    "outputId": "f7d78a66-795b-4935-f8a6-4c258e5f2913"
   },
   "outputs": [],
   "source": [
    "from os.path import join as pjoin, isfile\n",
    "import json\n",
    "import numpy as np\n",
    "\n",
    "TEXT_DATA_DIR = 'snli_1.0'\n",
    "\n",
    "def load_data(tier):\n",
    "    \n",
    "    premise = []\n",
    "    hypothseis = []\n",
    "    label = []\n",
    "    cnt = 0\n",
    "    \n",
    "    with open(pjoin(TEXT_DATA_DIR, 'snli_1.0_' + tier + '.jsonl')) as f:\n",
    "        for line in f.readlines():\n",
    "            d = json.loads(line)\n",
    "            if d['gold_label'] != '-':\n",
    "                cnt += 1\n",
    "                premise.append(d['sentence1'])\n",
    "                hypothseis.append(d['sentence2'])\n",
    "                label.append(d['gold_label'])\n",
    "\n",
    "    print('# of', tier, 'samples :', cnt, end=' | ')\n",
    "    print('Entailment :', label.count('entailment'), '| Neutral :', label.count('neutral'), '| Contradiction :', label.count('contradiction'))\n",
    "    return (premise, hypothseis, label)\n",
    "\n",
    "train = load_data('train')\n",
    "dev = load_data('dev')\n",
    "test = load_data('test')"
   ]
  },
  {
   "cell_type": "code",
   "execution_count": null,
   "metadata": {
    "colab": {
     "autoexec": {
      "startup": false,
      "wait_interval": 0
     },
     "base_uri": "https://localhost:8080/",
     "height": 34,
     "output_extras": [
      {
       "item_id": 1
      }
     ]
    },
    "colab_type": "code",
    "executionInfo": {
     "elapsed": 24266,
     "status": "ok",
     "timestamp": 1522681224329,
     "user": {
      "displayName": "Sid Nayyar",
      "photoUrl": "https://lh3.googleusercontent.com/a/default-user=s128",
      "userId": "113507106813183723112"
     },
     "user_tz": -330
    },
    "id": "1BQZPOUaBIXE",
    "outputId": "ed385dd3-de55-4f43-baa8-052f384a68e5"
   },
   "outputs": [],
   "source": [
    "import pickle\n",
    "from keras.preprocessing.text import Tokenizer\n",
    "from keras.preprocessing.sequence import pad_sequences\n",
    "import keras.backend as K\n",
    "from keras.layers import LSTM, Input, Dot, Softmax, Multiply, Concatenate, Subtract, Dense, Lambda, Embedding\n",
    "from keras.layers.wrappers import Bidirectional\n",
    "from keras.models import Model, load_model\n",
    "\n",
    "SentenceLen = 100\n",
    "WordVecLen = 300\n",
    "\n",
    "if not isfile('tokenizer.pickle'):\n",
    "    tokenizer = Tokenizer(num_words=SentenceLen)\n",
    "    tokenizer.fit_on_texts(train[0] + train[1] + dev[0] + dev[1] + test[0] + test[1])\n",
    "    with open('tokenizer.pickle', 'wb') as handle:\n",
    "        pickle.dump(tokenizer, handle, protocol=pickle.HIGHEST_PROTOCOL)\n",
    "\n",
    "tokenizer = pickle.load(open('tokenizer.pickle', 'rb'))\n",
    "\n",
    "def PadSeq(text):\n",
    "    sequences = tokenizer.texts_to_sequences(text)\n",
    "    return pad_sequences(sequences, maxlen=SentenceLen)"
   ]
  },
  {
   "cell_type": "code",
   "execution_count": null,
   "metadata": {
    "colab": {
     "autoexec": {
      "startup": false,
      "wait_interval": 0
     }
    },
    "colab_type": "code",
    "id": "34ttd7uyBK_X"
   },
   "outputs": [],
   "source": [
    "if not isfile('embeddings.npy'):\n",
    "\n",
    "    embeddings_index = {}\n",
    "    f = open('glove.840B.300d.txt', encoding='utf8')\n",
    "    for line in f:\n",
    "        values = line.split()\n",
    "        word = ' '.join(values[:-300])\n",
    "        coefs = np.asarray(values[-300:], dtype='float32')\n",
    "        embeddings_index[word] = coefs\n",
    "    f.close()\n",
    "    \n",
    "    word_index = tokenizer.word_index\n",
    "\n",
    "    embedding_matrix = np.zeros((len(word_index) + 1, WordVecLen))\n",
    "    for word, i in word_index.items():\n",
    "        embedding_vector = embeddings_index.get(word)\n",
    "        if embedding_vector is not None:\n",
    "            embedding_matrix[i] = embedding_vector\n",
    "    \n",
    "    np.save('embeddings.npy', embedding_matrix)\n",
    "\n",
    "def load_embeddings():\n",
    "    embedding_matrix = np.load('embeddings.npy')\n",
    "    embedding_layer = Embedding(len(tokenizer.word_index) + 1,\n",
    "                                WordVecLen,\n",
    "                                weights=[embedding_matrix],\n",
    "                                input_length=SentenceLen,\n",
    "                                trainable=False)\n",
    "    return embedding_layer\n",
    "\n",
    "\n",
    "embedding_layer = load_embeddings()"
   ]
  },
  {
   "cell_type": "code",
   "execution_count": null,
   "metadata": {
    "colab": {
     "autoexec": {
      "startup": false,
      "wait_interval": 0
     }
    },
    "colab_type": "code",
    "id": "9uStQ3CjBOwV"
   },
   "outputs": [],
   "source": [
    "def labelToVec(labels):\n",
    "    vec = []\n",
    "    for label in labels:\n",
    "        if label == 'entailment':\n",
    "            vec.append([1.0, 0.0, 0.0])\n",
    "        elif label == 'contradiction':\n",
    "            vec.append([0.0, 1.0, 0.0])\n",
    "        elif label == 'neutral':\n",
    "            vec.append([0.0, 0.0, 1.0])\n",
    "        else:\n",
    "            raise ValueError('Unknown label %s' % (label))\n",
    "    return np.array(vec)\n",
    "\n",
    "train_y = labelToVec(train[2])\n",
    "train_x = [PadSeq(train[0]), PadSeq(train[1])]\n",
    "dev_y = labelToVec(dev[2])\n",
    "dev_x = [PadSeq(dev[0]), PadSeq(dev[1])]\n",
    "test_y = labelToVec(test[2])\n",
    "test_x = [PadSeq(test[0]), PadSeq(test[1])]\n",
    "\n",
    "del train\n",
    "del dev\n",
    "del test\n",
    "del tokenizer"
   ]
  },
  {
   "cell_type": "code",
   "execution_count": null,
   "metadata": {
    "colab": {
     "autoexec": {
      "startup": false,
      "wait_interval": 0
     },
     "base_uri": "https://localhost:8080/",
     "height": 1445,
     "output_extras": [
      {
       "item_id": 1
      }
     ]
    },
    "colab_type": "code",
    "executionInfo": {
     "elapsed": 5417,
     "status": "ok",
     "timestamp": 1522681448480,
     "user": {
      "displayName": "Sid Nayyar",
      "photoUrl": "https://lh3.googleusercontent.com/a/default-user=s128",
      "userId": "113507106813183723112"
     },
     "user_tz": -330
    },
    "id": "G9MkEIdxBVpC",
    "outputId": "dce0882f-6c0d-4456-96e9-a7c1926ea775"
   },
   "outputs": [],
   "source": [
    "def expand_rep(x, r, a):\n",
    "    y = K.expand_dims(x, axis=a)\n",
    "    y = K.repeat_elements(y, r, axis=a)\n",
    "    return y\n",
    "\n",
    "bilstm1 = Bidirectional(LSTM(300, return_sequences=True))\n",
    "bilstm2 = Bidirectional(LSTM(300, return_sequences=True))\n",
    "\n",
    "i1 = Input(shape=(SentenceLen,), dtype='float32')\n",
    "i2 = Input(shape=(SentenceLen,), dtype='float32')\n",
    "\n",
    "x1 = embedding_layer(i1)\n",
    "x2 = embedding_layer(i2)\n",
    "\n",
    "x1 = bilstm1(x1)\n",
    "x2 = bilstm1(x2)\n",
    "\n",
    "e = Dot(axes=2)([x1, x2])\n",
    "e1 = Softmax(axis=2)(e)\n",
    "e2 = Softmax(axis=1)(e)\n",
    "e1 = Lambda(expand_rep, arguments={'r' : 2 * WordVecLen, 'a' : 3})(e1)\n",
    "e2 = Lambda(expand_rep, arguments={'r' : 2 * WordVecLen, 'a' : 3})(e2)\n",
    "\n",
    "_x1 = Lambda(expand_rep, arguments={'r' : K.int_shape(x1)[1], 'a' : 1})(x2)\n",
    "_x1 = Multiply()([e1, _x1])\n",
    "_x1 = Lambda(K.sum, arguments={'axis' : 2})(_x1)\n",
    "_x2 = Lambda(expand_rep, arguments={'r' : K.int_shape(x2)[1], 'a' : 2})(x1)\n",
    "_x2 = Multiply()([e2, _x2])\n",
    "_x2 = Lambda(K.sum, arguments={'axis' : 1})(_x2)\n",
    "\n",
    "m1 = Concatenate()([x1, _x1, Subtract()([x1, _x1]), Multiply()([x1, _x1])])\n",
    "m2 = Concatenate()([x2, _x2, Subtract()([x2, _x2]), Multiply()([x2, _x2])])\n",
    "\n",
    "y1 = bilstm2(m1)\n",
    "y2 = bilstm2(m2)\n",
    "\n",
    "mx1 = Lambda(K.max, arguments={'axis' : 1})(y1)\n",
    "av1 = Lambda(K.mean, arguments={'axis' : 1})(y1)\n",
    "mx2 = Lambda(K.max, arguments={'axis' : 1})(y2)\n",
    "av2 = Lambda(K.mean, arguments={'axis' : 1})(y2)\n",
    "\n",
    "y = Concatenate()([av1, mx1, av2, mx2])\n",
    "y = Dense(1024, activation='tanh')(y)\n",
    "y = Dense(1024, activation='tanh')(y)\n",
    "y = Dense(3, activation='softmax')(y)\n",
    "\n",
    "model = Model(inputs=[i1, i2], outputs=y)\n",
    "model.summary()"
   ]
  },
  {
   "cell_type": "code",
   "execution_count": null,
   "metadata": {
    "colab": {
     "autoexec": {
      "startup": false,
      "wait_interval": 0
     }
    },
    "colab_type": "code",
    "id": "F8mlQIrpBXO_"
   },
   "outputs": [],
   "source": [
    "model.compile(loss='categorical_crossentropy', optimizer='adam', metrics=['accuracy'])"
   ]
  },
  {
   "cell_type": "code",
   "execution_count": null,
   "metadata": {
    "colab": {
     "autoexec": {
      "startup": false,
      "wait_interval": 0
     },
     "base_uri": "https://localhost:8080/",
     "height": 68,
     "output_extras": [
      {
       "item_id": 25
      }
     ]
    },
    "colab_type": "code",
    "id": "JbUFZgmcBZLV",
    "outputId": "e4e11c24-ccbd-45ad-cef2-9ed87c987a62"
   },
   "outputs": [],
   "source": [
    "model.fit(train_x, train_y, epochs=10, validation_data=(dev_x, dev_y))"
   ]
  },
  {
   "cell_type": "code",
   "execution_count": null,
   "metadata": {
    "colab": {
     "autoexec": {
      "startup": false,
      "wait_interval": 0
     },
     "base_uri": "https://localhost:8080/",
     "height": 68,
     "output_extras": [
      {
       "item_id": 266
      }
     ]
    },
    "colab_type": "code",
    "executionInfo": {
     "elapsed": 241717,
     "status": "ok",
     "timestamp": 1522595775310,
     "user": {
      "displayName": "Sid Nayyar",
      "photoUrl": "https://lh3.googleusercontent.com/a/default-user=s128",
      "userId": "113507106813183723112"
     },
     "user_tz": -330
    },
    "id": "aKhrkJRpBazG",
    "outputId": "bb249969-5297-43fa-e5dd-0935139d0b9a"
   },
   "outputs": [],
   "source": [
    "score = model.evaluate(test_x, test_y, verbose=1)\n",
    "print('Test loss : ', score[0])\n",
    "print('Test accuracy : ', score[1])"
   ]
  },
  {
   "cell_type": "code",
   "execution_count": null,
   "metadata": {
    "colab": {
     "autoexec": {
      "startup": false,
      "wait_interval": 0
     }
    },
    "colab_type": "code",
    "id": "H0OKXrY6BcR7"
   },
   "outputs": [],
   "source": [
    "model.save_weights('NLI.h5')"
   ]
  }
 ],
 "metadata": {
  "accelerator": "GPU",
  "colab": {
   "default_view": {},
   "name": "NLI.ipynb",
   "provenance": [],
   "version": "0.3.2",
   "views": {}
  },
  "kernelspec": {
   "display_name": "Python 3",
   "language": "python",
   "name": "python3"
  },
  "language_info": {
   "codemirror_mode": {
    "name": "ipython",
    "version": 3
   },
   "file_extension": ".py",
   "mimetype": "text/x-python",
   "name": "python",
   "nbconvert_exporter": "python",
   "pygments_lexer": "ipython3",
   "version": "3.5.1"
  }
 },
 "nbformat": 4,
 "nbformat_minor": 1
}
